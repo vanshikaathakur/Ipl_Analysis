{
 "cells": [
  {
   "cell_type": "code",
   "execution_count": 1,
   "id": "78a83581-0464-42ef-96dd-fd7ef9393b97",
   "metadata": {},
   "outputs": [],
   "source": [
    "import math\n",
    "import numpy as np\n",
    "import pandas as pd\n",
    "import seaborn as sns\n",
    "import matplotlib.pyplot as plt"
   ]
  },
  {
   "cell_type": "code",
   "execution_count": 2,
   "id": "e2fc01e3-5ce8-448b-a1b7-3ea8018fe1e5",
   "metadata": {},
   "outputs": [
    {
     "data": {
      "text/html": [
       "<div>\n",
       "<style scoped>\n",
       "    .dataframe tbody tr th:only-of-type {\n",
       "        vertical-align: middle;\n",
       "    }\n",
       "\n",
       "    .dataframe tbody tr th {\n",
       "        vertical-align: top;\n",
       "    }\n",
       "\n",
       "    .dataframe thead th {\n",
       "        text-align: right;\n",
       "    }\n",
       "</style>\n",
       "<table border=\"1\" class=\"dataframe\">\n",
       "  <thead>\n",
       "    <tr style=\"text-align: right;\">\n",
       "      <th></th>\n",
       "      <th>match_id</th>\n",
       "      <th>season</th>\n",
       "      <th>start_date</th>\n",
       "      <th>venue</th>\n",
       "      <th>innings</th>\n",
       "      <th>ball</th>\n",
       "      <th>batting_team</th>\n",
       "      <th>bowling_team</th>\n",
       "      <th>striker</th>\n",
       "      <th>non_striker</th>\n",
       "      <th>...</th>\n",
       "      <th>runs_off_bat</th>\n",
       "      <th>extras</th>\n",
       "      <th>wides</th>\n",
       "      <th>noballs</th>\n",
       "      <th>byes</th>\n",
       "      <th>legbyes</th>\n",
       "      <th>wicket_type</th>\n",
       "      <th>player_dismissed</th>\n",
       "      <th>run</th>\n",
       "      <th>over</th>\n",
       "    </tr>\n",
       "  </thead>\n",
       "  <tbody>\n",
       "    <tr>\n",
       "      <th>0</th>\n",
       "      <td>335982</td>\n",
       "      <td>2008</td>\n",
       "      <td>2008-04-18</td>\n",
       "      <td>M.Chinnaswamy Stadium</td>\n",
       "      <td>1</td>\n",
       "      <td>0.1</td>\n",
       "      <td>Kolkata Knight Riders</td>\n",
       "      <td>Royal Challengers Bangalore</td>\n",
       "      <td>SC Ganguly</td>\n",
       "      <td>BB McCullum</td>\n",
       "      <td>...</td>\n",
       "      <td>0</td>\n",
       "      <td>1</td>\n",
       "      <td>0.0</td>\n",
       "      <td>0.0</td>\n",
       "      <td>0.0</td>\n",
       "      <td>1.0</td>\n",
       "      <td></td>\n",
       "      <td></td>\n",
       "      <td>1</td>\n",
       "      <td>0</td>\n",
       "    </tr>\n",
       "    <tr>\n",
       "      <th>1</th>\n",
       "      <td>335982</td>\n",
       "      <td>2008</td>\n",
       "      <td>2008-04-18</td>\n",
       "      <td>M.Chinnaswamy Stadium</td>\n",
       "      <td>1</td>\n",
       "      <td>0.2</td>\n",
       "      <td>Kolkata Knight Riders</td>\n",
       "      <td>Royal Challengers Bangalore</td>\n",
       "      <td>BB McCullum</td>\n",
       "      <td>SC Ganguly</td>\n",
       "      <td>...</td>\n",
       "      <td>0</td>\n",
       "      <td>0</td>\n",
       "      <td>0.0</td>\n",
       "      <td>0.0</td>\n",
       "      <td>0.0</td>\n",
       "      <td>0.0</td>\n",
       "      <td></td>\n",
       "      <td></td>\n",
       "      <td>0</td>\n",
       "      <td>0</td>\n",
       "    </tr>\n",
       "    <tr>\n",
       "      <th>2</th>\n",
       "      <td>335982</td>\n",
       "      <td>2008</td>\n",
       "      <td>2008-04-18</td>\n",
       "      <td>M.Chinnaswamy Stadium</td>\n",
       "      <td>1</td>\n",
       "      <td>0.3</td>\n",
       "      <td>Kolkata Knight Riders</td>\n",
       "      <td>Royal Challengers Bangalore</td>\n",
       "      <td>BB McCullum</td>\n",
       "      <td>SC Ganguly</td>\n",
       "      <td>...</td>\n",
       "      <td>0</td>\n",
       "      <td>1</td>\n",
       "      <td>1.0</td>\n",
       "      <td>0.0</td>\n",
       "      <td>0.0</td>\n",
       "      <td>0.0</td>\n",
       "      <td></td>\n",
       "      <td></td>\n",
       "      <td>1</td>\n",
       "      <td>0</td>\n",
       "    </tr>\n",
       "    <tr>\n",
       "      <th>3</th>\n",
       "      <td>335982</td>\n",
       "      <td>2008</td>\n",
       "      <td>2008-04-18</td>\n",
       "      <td>M.Chinnaswamy Stadium</td>\n",
       "      <td>1</td>\n",
       "      <td>0.4</td>\n",
       "      <td>Kolkata Knight Riders</td>\n",
       "      <td>Royal Challengers Bangalore</td>\n",
       "      <td>BB McCullum</td>\n",
       "      <td>SC Ganguly</td>\n",
       "      <td>...</td>\n",
       "      <td>0</td>\n",
       "      <td>0</td>\n",
       "      <td>0.0</td>\n",
       "      <td>0.0</td>\n",
       "      <td>0.0</td>\n",
       "      <td>0.0</td>\n",
       "      <td></td>\n",
       "      <td></td>\n",
       "      <td>0</td>\n",
       "      <td>0</td>\n",
       "    </tr>\n",
       "    <tr>\n",
       "      <th>4</th>\n",
       "      <td>335982</td>\n",
       "      <td>2008</td>\n",
       "      <td>2008-04-18</td>\n",
       "      <td>M.Chinnaswamy Stadium</td>\n",
       "      <td>1</td>\n",
       "      <td>0.5</td>\n",
       "      <td>Kolkata Knight Riders</td>\n",
       "      <td>Royal Challengers Bangalore</td>\n",
       "      <td>BB McCullum</td>\n",
       "      <td>SC Ganguly</td>\n",
       "      <td>...</td>\n",
       "      <td>0</td>\n",
       "      <td>0</td>\n",
       "      <td>0.0</td>\n",
       "      <td>0.0</td>\n",
       "      <td>0.0</td>\n",
       "      <td>0.0</td>\n",
       "      <td></td>\n",
       "      <td></td>\n",
       "      <td>0</td>\n",
       "      <td>0</td>\n",
       "    </tr>\n",
       "    <tr>\n",
       "      <th>...</th>\n",
       "      <td>...</td>\n",
       "      <td>...</td>\n",
       "      <td>...</td>\n",
       "      <td>...</td>\n",
       "      <td>...</td>\n",
       "      <td>...</td>\n",
       "      <td>...</td>\n",
       "      <td>...</td>\n",
       "      <td>...</td>\n",
       "      <td>...</td>\n",
       "      <td>...</td>\n",
       "      <td>...</td>\n",
       "      <td>...</td>\n",
       "      <td>...</td>\n",
       "      <td>...</td>\n",
       "      <td>...</td>\n",
       "      <td>...</td>\n",
       "      <td>...</td>\n",
       "      <td>...</td>\n",
       "      <td>...</td>\n",
       "      <td>...</td>\n",
       "    </tr>\n",
       "    <tr>\n",
       "      <th>194349</th>\n",
       "      <td>1254060</td>\n",
       "      <td>2021</td>\n",
       "      <td>2021-04-11</td>\n",
       "      <td>MA Chidambaram Stadium, Chepauk, Chennai</td>\n",
       "      <td>2</td>\n",
       "      <td>19.2</td>\n",
       "      <td>Sunrisers Hyderabad</td>\n",
       "      <td>Kolkata Knight Riders</td>\n",
       "      <td>Abdul Samad</td>\n",
       "      <td>MK Pandey</td>\n",
       "      <td>...</td>\n",
       "      <td>0</td>\n",
       "      <td>0</td>\n",
       "      <td>0.0</td>\n",
       "      <td>0.0</td>\n",
       "      <td>0.0</td>\n",
       "      <td>0.0</td>\n",
       "      <td></td>\n",
       "      <td></td>\n",
       "      <td>0</td>\n",
       "      <td>19</td>\n",
       "    </tr>\n",
       "    <tr>\n",
       "      <th>194350</th>\n",
       "      <td>1254060</td>\n",
       "      <td>2021</td>\n",
       "      <td>2021-04-11</td>\n",
       "      <td>MA Chidambaram Stadium, Chepauk, Chennai</td>\n",
       "      <td>2</td>\n",
       "      <td>19.3</td>\n",
       "      <td>Sunrisers Hyderabad</td>\n",
       "      <td>Kolkata Knight Riders</td>\n",
       "      <td>Abdul Samad</td>\n",
       "      <td>MK Pandey</td>\n",
       "      <td>...</td>\n",
       "      <td>1</td>\n",
       "      <td>0</td>\n",
       "      <td>0.0</td>\n",
       "      <td>0.0</td>\n",
       "      <td>0.0</td>\n",
       "      <td>0.0</td>\n",
       "      <td></td>\n",
       "      <td></td>\n",
       "      <td>1</td>\n",
       "      <td>19</td>\n",
       "    </tr>\n",
       "    <tr>\n",
       "      <th>194351</th>\n",
       "      <td>1254060</td>\n",
       "      <td>2021</td>\n",
       "      <td>2021-04-11</td>\n",
       "      <td>MA Chidambaram Stadium, Chepauk, Chennai</td>\n",
       "      <td>2</td>\n",
       "      <td>19.4</td>\n",
       "      <td>Sunrisers Hyderabad</td>\n",
       "      <td>Kolkata Knight Riders</td>\n",
       "      <td>MK Pandey</td>\n",
       "      <td>Abdul Samad</td>\n",
       "      <td>...</td>\n",
       "      <td>1</td>\n",
       "      <td>0</td>\n",
       "      <td>0.0</td>\n",
       "      <td>0.0</td>\n",
       "      <td>0.0</td>\n",
       "      <td>0.0</td>\n",
       "      <td></td>\n",
       "      <td></td>\n",
       "      <td>1</td>\n",
       "      <td>19</td>\n",
       "    </tr>\n",
       "    <tr>\n",
       "      <th>194352</th>\n",
       "      <td>1254060</td>\n",
       "      <td>2021</td>\n",
       "      <td>2021-04-11</td>\n",
       "      <td>MA Chidambaram Stadium, Chepauk, Chennai</td>\n",
       "      <td>2</td>\n",
       "      <td>19.5</td>\n",
       "      <td>Sunrisers Hyderabad</td>\n",
       "      <td>Kolkata Knight Riders</td>\n",
       "      <td>Abdul Samad</td>\n",
       "      <td>MK Pandey</td>\n",
       "      <td>...</td>\n",
       "      <td>1</td>\n",
       "      <td>0</td>\n",
       "      <td>0.0</td>\n",
       "      <td>0.0</td>\n",
       "      <td>0.0</td>\n",
       "      <td>0.0</td>\n",
       "      <td></td>\n",
       "      <td></td>\n",
       "      <td>1</td>\n",
       "      <td>19</td>\n",
       "    </tr>\n",
       "    <tr>\n",
       "      <th>194353</th>\n",
       "      <td>1254060</td>\n",
       "      <td>2021</td>\n",
       "      <td>2021-04-11</td>\n",
       "      <td>MA Chidambaram Stadium, Chepauk, Chennai</td>\n",
       "      <td>2</td>\n",
       "      <td>19.6</td>\n",
       "      <td>Sunrisers Hyderabad</td>\n",
       "      <td>Kolkata Knight Riders</td>\n",
       "      <td>MK Pandey</td>\n",
       "      <td>Abdul Samad</td>\n",
       "      <td>...</td>\n",
       "      <td>6</td>\n",
       "      <td>0</td>\n",
       "      <td>0.0</td>\n",
       "      <td>0.0</td>\n",
       "      <td>0.0</td>\n",
       "      <td>0.0</td>\n",
       "      <td></td>\n",
       "      <td></td>\n",
       "      <td>6</td>\n",
       "      <td>19</td>\n",
       "    </tr>\n",
       "  </tbody>\n",
       "</table>\n",
       "<p>194354 rows × 21 columns</p>\n",
       "</div>"
      ],
      "text/plain": [
       "        match_id  season  start_date  \\\n",
       "0         335982    2008  2008-04-18   \n",
       "1         335982    2008  2008-04-18   \n",
       "2         335982    2008  2008-04-18   \n",
       "3         335982    2008  2008-04-18   \n",
       "4         335982    2008  2008-04-18   \n",
       "...          ...     ...         ...   \n",
       "194349   1254060    2021  2021-04-11   \n",
       "194350   1254060    2021  2021-04-11   \n",
       "194351   1254060    2021  2021-04-11   \n",
       "194352   1254060    2021  2021-04-11   \n",
       "194353   1254060    2021  2021-04-11   \n",
       "\n",
       "                                           venue  innings  ball  \\\n",
       "0                          M.Chinnaswamy Stadium        1   0.1   \n",
       "1                          M.Chinnaswamy Stadium        1   0.2   \n",
       "2                          M.Chinnaswamy Stadium        1   0.3   \n",
       "3                          M.Chinnaswamy Stadium        1   0.4   \n",
       "4                          M.Chinnaswamy Stadium        1   0.5   \n",
       "...                                          ...      ...   ...   \n",
       "194349  MA Chidambaram Stadium, Chepauk, Chennai        2  19.2   \n",
       "194350  MA Chidambaram Stadium, Chepauk, Chennai        2  19.3   \n",
       "194351  MA Chidambaram Stadium, Chepauk, Chennai        2  19.4   \n",
       "194352  MA Chidambaram Stadium, Chepauk, Chennai        2  19.5   \n",
       "194353  MA Chidambaram Stadium, Chepauk, Chennai        2  19.6   \n",
       "\n",
       "                 batting_team                 bowling_team      striker  \\\n",
       "0       Kolkata Knight Riders  Royal Challengers Bangalore   SC Ganguly   \n",
       "1       Kolkata Knight Riders  Royal Challengers Bangalore  BB McCullum   \n",
       "2       Kolkata Knight Riders  Royal Challengers Bangalore  BB McCullum   \n",
       "3       Kolkata Knight Riders  Royal Challengers Bangalore  BB McCullum   \n",
       "4       Kolkata Knight Riders  Royal Challengers Bangalore  BB McCullum   \n",
       "...                       ...                          ...          ...   \n",
       "194349    Sunrisers Hyderabad        Kolkata Knight Riders  Abdul Samad   \n",
       "194350    Sunrisers Hyderabad        Kolkata Knight Riders  Abdul Samad   \n",
       "194351    Sunrisers Hyderabad        Kolkata Knight Riders    MK Pandey   \n",
       "194352    Sunrisers Hyderabad        Kolkata Knight Riders  Abdul Samad   \n",
       "194353    Sunrisers Hyderabad        Kolkata Knight Riders    MK Pandey   \n",
       "\n",
       "        non_striker  ... runs_off_bat  extras  wides  noballs  byes  legbyes  \\\n",
       "0       BB McCullum  ...            0       1    0.0      0.0   0.0      1.0   \n",
       "1        SC Ganguly  ...            0       0    0.0      0.0   0.0      0.0   \n",
       "2        SC Ganguly  ...            0       1    1.0      0.0   0.0      0.0   \n",
       "3        SC Ganguly  ...            0       0    0.0      0.0   0.0      0.0   \n",
       "4        SC Ganguly  ...            0       0    0.0      0.0   0.0      0.0   \n",
       "...             ...  ...          ...     ...    ...      ...   ...      ...   \n",
       "194349    MK Pandey  ...            0       0    0.0      0.0   0.0      0.0   \n",
       "194350    MK Pandey  ...            1       0    0.0      0.0   0.0      0.0   \n",
       "194351  Abdul Samad  ...            1       0    0.0      0.0   0.0      0.0   \n",
       "194352    MK Pandey  ...            1       0    0.0      0.0   0.0      0.0   \n",
       "194353  Abdul Samad  ...            6       0    0.0      0.0   0.0      0.0   \n",
       "\n",
       "        wicket_type player_dismissed run  over  \n",
       "0                                      1     0  \n",
       "1                                      0     0  \n",
       "2                                      1     0  \n",
       "3                                      0     0  \n",
       "4                                      0     0  \n",
       "...             ...              ...  ..   ...  \n",
       "194349                                 0    19  \n",
       "194350                                 1    19  \n",
       "194351                                 1    19  \n",
       "194352                                 1    19  \n",
       "194353                                 6    19  \n",
       "\n",
       "[194354 rows x 21 columns]"
      ]
     },
     "execution_count": 2,
     "metadata": {},
     "output_type": "execute_result"
    }
   ],
   "source": [
    "df=pd.read_csv(r\"C:\\Users\\nt397\\Downloads\\IPL Dataset.csv\")\n",
    "df"
   ]
  },
  {
   "cell_type": "code",
   "execution_count": 3,
   "id": "07e408ff-9ca7-4151-a991-19afa92f428d",
   "metadata": {},
   "outputs": [
    {
     "name": "stdout",
     "output_type": "stream",
     "text": [
      "<class 'pandas.core.frame.DataFrame'>\n",
      "RangeIndex: 194354 entries, 0 to 194353\n",
      "Data columns (total 21 columns):\n",
      " #   Column            Non-Null Count   Dtype  \n",
      "---  ------            --------------   -----  \n",
      " 0   match_id          194354 non-null  int64  \n",
      " 1   season            194354 non-null  int64  \n",
      " 2   start_date        194354 non-null  object \n",
      " 3   venue             194354 non-null  object \n",
      " 4   innings           194354 non-null  int64  \n",
      " 5   ball              194354 non-null  float64\n",
      " 6   batting_team      194354 non-null  object \n",
      " 7   bowling_team      194354 non-null  object \n",
      " 8   striker           194354 non-null  object \n",
      " 9   non_striker       194354 non-null  object \n",
      " 10  bowler            194354 non-null  object \n",
      " 11  runs_off_bat      194354 non-null  int64  \n",
      " 12  extras            194354 non-null  int64  \n",
      " 13  wides             194354 non-null  float64\n",
      " 14  noballs           194354 non-null  float64\n",
      " 15  byes              194354 non-null  float64\n",
      " 16  legbyes           194354 non-null  float64\n",
      " 17  wicket_type       194354 non-null  object \n",
      " 18  player_dismissed  194354 non-null  object \n",
      " 19  run               194354 non-null  int64  \n",
      " 20  over              194354 non-null  int64  \n",
      "dtypes: float64(5), int64(7), object(9)\n",
      "memory usage: 31.1+ MB\n"
     ]
    }
   ],
   "source": [
    "df.info()"
   ]
  },
  {
   "cell_type": "code",
   "execution_count": 4,
   "id": "42dbd289-8cff-40c5-b8e3-f8d37a617013",
   "metadata": {},
   "outputs": [
    {
     "data": {
      "text/plain": [
       "array([2008, 2009, 2010, 2011, 2012, 2013, 2014, 2015, 2016, 2017, 2019,\n",
       "       2018, 2020, 2021], dtype=int64)"
      ]
     },
     "execution_count": 4,
     "metadata": {},
     "output_type": "execute_result"
    }
   ],
   "source": [
    "df['season'].unique()"
   ]
  },
  {
   "cell_type": "code",
   "execution_count": 5,
   "id": "b7a78f55-db1c-4d00-93e3-0a2a531d5e25",
   "metadata": {},
   "outputs": [
    {
     "data": {
      "text/plain": [
       "match_id                                 335982\n",
       "season                                     2008\n",
       "start_date                           2008-04-18\n",
       "venue                     M.Chinnaswamy Stadium\n",
       "innings                                       1\n",
       "ball                                        0.1\n",
       "batting_team              Kolkata Knight Riders\n",
       "bowling_team        Royal Challengers Bangalore\n",
       "striker                              SC Ganguly\n",
       "non_striker                         BB McCullum\n",
       "bowler                                  P Kumar\n",
       "runs_off_bat                                  0\n",
       "extras                                        1\n",
       "wides                                       0.0\n",
       "noballs                                     0.0\n",
       "byes                                        0.0\n",
       "legbyes                                     1.0\n",
       "wicket_type                                    \n",
       "player_dismissed                               \n",
       "run                                           1\n",
       "over                                          0\n",
       "Name: 0, dtype: object"
      ]
     },
     "execution_count": 5,
     "metadata": {},
     "output_type": "execute_result"
    }
   ],
   "source": [
    "df.iloc[0]"
   ]
  },
  {
   "cell_type": "code",
   "execution_count": 11,
   "id": "5ae76b6e-75cc-48cf-9487-2549a99e1740",
   "metadata": {},
   "outputs": [
    {
     "data": {
      "text/plain": [
       "season\n",
       "2008    58\n",
       "2009    57\n",
       "2010    60\n",
       "2011    73\n",
       "2012    74\n",
       "2013    76\n",
       "2014    60\n",
       "2015    59\n",
       "2016    60\n",
       "2017    59\n",
       "2018    60\n",
       "2019    60\n",
       "2020    60\n",
       "2021     3\n",
       "Name: count, dtype: int64"
      ]
     },
     "execution_count": 11,
     "metadata": {},
     "output_type": "execute_result"
    }
   ],
   "source": [
    "data=df.groupby(['match_id','season']).count().index.droplevel(level=0).value_counts().sort_index()\n",
    "data"
   ]
  },
  {
   "cell_type": "code",
   "execution_count": 13,
   "id": "e37b83ca-e674-4df0-bf83-545398cc287c",
   "metadata": {},
   "outputs": [
    {
     "data": {
      "image/png": "[encoded data removed]",
      "text/plain": [
       "<Figure size 1000x800 with 1 Axes>"
      ]
     },
     "metadata": {},
     "output_type": "display_data"
    }
   ],
   "source": [
    "import matplotlib.pyplot as plt\n",
    "\n",
    "\n",
    "matches_per_season = df.groupby(\"season\")[\"match_id\"].nunique().sort_index()\n",
    "\n",
    "# Plotting\n",
    "plt.figure(figsize=(10, 8))\n",
    "matches_per_season.plot(kind='bar', color='skyblue', edgecolor='black')\n",
    "plt.xlabel(\"Season\")\n",
    "plt.ylabel(\"Matches Played\")\n",
    "plt.title(\"Matches Played Per Season in IPL\")\n",
    "plt.xticks(rotation=45)\n",
    "plt.tight_layout()\n",
    "plt.show()\n",
    "\n"
   ]
  },
  {
   "cell_type": "code",
   "execution_count": 15,
   "id": "9036615c-4360-42bc-944d-19870fcb25bf",
   "metadata": {},
   "outputs": [
    {
     "name": "stdout",
     "output_type": "stream",
     "text": [
      "venue\n",
      "M.Chinnaswamy Stadium                                   80\n",
      "Eden Gardens                                            77\n",
      "Arun Jaitley Stadium                                    74\n",
      "Wankhede Stadium, Mumbai                                74\n",
      "Rajiv Gandhi International Stadium, Uppal               64\n",
      "MA Chidambaram Stadium, Chepauk, Chennai                59\n",
      "Punjab Cricket Association IS Bindra Stadium, Mohali    56\n",
      "Sawai Mansingh Stadium                                  47\n",
      "Dubai International Cricket Stadium                     33\n",
      "Sheikh Zayed Stadium                                    29\n",
      "Name: match_id, dtype: int64\n"
     ]
    }
   ],
   "source": [
    "# Count number of unique matches played at each venue\n",
    "matches_per_venue = df.groupby(\"venue\")[\"match_id\"].nunique().sort_values(ascending=False)\n",
    "\n",
    "# Show top venues\n",
    "print(matches_per_venue.head(10)) \n",
    " "
   ]
  },
  {
   "cell_type": "code",
   "execution_count": 17,
   "id": "3015c4e2-2928-412f-b9b1-884e535f751e",
   "metadata": {},
   "outputs": [
    {
     "data": {
      "image/png": "[encoded data removed]",
      "text/plain": [
       "<Figure size 1000x800 with 1 Axes>"
      ]
     },
     "metadata": {},
     "output_type": "display_data"
    }
   ],
   "source": [
    "#Ipl Matches PLayed by Each Team\n",
    "plt.figure(figsize=(10,8))\n",
    "data=df[\"bowling_team\"].value_counts().sort_values(ascending=False)\n",
    "sns.barplot(y=data.index,x=data,orient='h')\n",
    "plt.xlabel('Matches PLayed')\n",
    "plt.ylabel('team')\n",
    "plt.show()"
   ]
  },
  {
   "cell_type": "code",
   "execution_count": 19,
   "id": "66e9f5a9-6839-463b-83e1-e8da5267dbbb",
   "metadata": {},
   "outputs": [
    {
     "data": {
      "text/plain": [
       "batting_team\n",
       "Mumbai Indians                 32488\n",
       "Royal Challengers Bangalore    30415\n",
       "Kings XI Punjab                30064\n",
       "Kolkata Knight Riders          29606\n",
       "Chennai Super Kings            28560\n",
       "Rajasthan Royals               24542\n",
       "Delhi Daredevils               24296\n",
       "Sunrisers Hyderabad            19539\n",
       "Deccan Chargers                11463\n",
       "Pune Warriors                   6358\n",
       "Delhi Capitals                  5499\n",
       "Gujarat Lions                   4862\n",
       "Rising Pune Supergiant          4533\n",
       "Kochi Tuskers Kerala            1901\n",
       "Name: run, dtype: int64"
      ]
     },
     "execution_count": 19,
     "metadata": {},
     "output_type": "execute_result"
    }
   ],
   "source": [
    "#Most Run Scored by IPL Teams\n",
    "df.groupby([\"batting_team\"])[\"run\"].sum().sort_values(ascending=False)"
   ]
  },
  {
   "cell_type": "code",
   "execution_count": 21,
   "id": "c528001b-888f-4a21-a2d2-ce9ceaad09b3",
   "metadata": {},
   "outputs": [
    {
     "data": {
      "image/png": "[encoded data removed]",
      "text/plain": [
       "<Figure size 1000x800 with 1 Axes>"
      ]
     },
     "metadata": {},
     "output_type": "display_data"
    }
   ],
   "source": [
    "#Most IPL Runs by a Batsman\n",
    "plt.figure(figsize=(10,8))\n",
    "data=df.groupby([\"striker\"])[\"runs_off_bat\"].sum().sort_values(ascending=False).head(10)\n",
    "sns.barplot(y=data.index,x=data,orient=\"h\")\n",
    "plt.xlabel(\"batsman\")\n",
    "plt.ylabel(\"runs\")\n",
    "plt.show()\n",
    "           "
   ]
  },
  {
   "cell_type": "code",
   "execution_count": 23,
   "id": "db46541a-8a3c-40ab-9ab7-e413008988e8",
   "metadata": {},
   "outputs": [
    {
     "data": {
      "text/plain": [
       "striker\n",
       "V Kohli           5921\n",
       "SK Raina          5430\n",
       "S Dhawan          5282\n",
       "DA Warner         5257\n",
       "RG Sharma         5251\n",
       "AB de Villiers    4916\n",
       "CH Gayle          4804\n",
       "MS Dhoni          4632\n",
       "RV Uthappa        4609\n",
       "G Gambhir         4217\n",
       "Name: runs_off_bat, dtype: int64"
      ]
     },
     "execution_count": 23,
     "metadata": {},
     "output_type": "execute_result"
    }
   ],
   "source": [
    "data"
   ]
  },
  {
   "cell_type": "code",
   "execution_count": 33,
   "id": "13da495c-2ed1-4a25-9371-0ef76bb7bb41",
   "metadata": {},
   "outputs": [
    {
     "data": {
      "text/plain": [
       "batting_team\n",
       "Kochi Tuskers Kerala           54.928571\n",
       "Sunrisers Hyderabad            54.200000\n",
       "Kings XI Punjab                54.184211\n",
       "Rising Pune Supergiant         54.033333\n",
       "Kolkata Knight Riders          53.165803\n",
       "Delhi Daredevils               52.813665\n",
       "Chennai Super Kings            52.055866\n",
       "Deccan Chargers                51.853333\n",
       "Mumbai Indians                 51.833333\n",
       "Rajasthan Royals               51.662500\n",
       "Royal Challengers Bangalore    51.020408\n",
       "Pune Warriors                  47.577778\n",
       "Name: run, dtype: float64"
      ]
     },
     "execution_count": 33,
     "metadata": {},
     "output_type": "execute_result"
    }
   ],
   "source": [
    "# Avg Run by Teams in powerplay\n",
    "df[df[\"over\"] <= 6].groupby([\"match_id\", \"batting_team\"])[\"run\"].sum().groupby(\"batting_team\").mean().sort_values(ascending=False)[2:]\n"
   ]
  },
  {
   "cell_type": "code",
   "execution_count": 35,
   "id": "fddf5f3c-36bc-4922-bc11-4dcfc3a39d99",
   "metadata": {},
   "outputs": [
    {
     "name": "stdout",
     "output_type": "stream",
     "text": [
      "                match_id  runs_off_bat\n",
      "striker                               \n",
      "CH Gayle               6             6\n",
      "V Kohli                5             5\n",
      "DA Warner              4             4\n",
      "SR Watson              4             4\n",
      "AB de Villiers         3             3\n",
      "HM Amla                2             2\n",
      "M Vijay                2             2\n",
      "KL Rahul               2             2\n",
      "SV Samson              2             2\n",
      "S Dhawan               2             2\n"
     ]
    }
   ],
   "source": [
    "# Most IPL Century by a player\n",
    "runs = df.groupby([\"striker\", \"match_id\"])[\"runs_off_bat\"].sum()\n",
    "centuries = runs[runs >= 100].reset_index()\n",
    "century_counts = centuries.groupby(\"striker\").count().sort_values(\"match_id\", ascending=False).head(10)\n",
    "print(century_counts)\n"
   ]
  },
  {
   "cell_type": "code",
   "execution_count": null,
   "id": "e0006423-f5fe-405c-9d71-626638711c25",
   "metadata": {},
   "outputs": [],
   "source": []
  },
  {
   "cell_type": "code",
   "execution_count": null,
   "id": "0a6cb3b6-ee78-4868-b2a6-c0dc68050cd2",
   "metadata": {},
   "outputs": [],
   "source": []
  }
 ],
 "metadata": {
  "kernelspec": {
   "display_name": "Python 3 (ipykernel)",
   "language": "python",
   "name": "python3"
  },
  "language_info": {
   "codemirror_mode": {
    "name": "ipython",
    "version": 3
   },
   "file_extension": ".py",
   "mimetype": "text/x-python",
   "name": "python",
   "nbconvert_exporter": "python",
   "pygments_lexer": "ipython3",
   "version": "3.12.4"
  }
 },
 "nbformat": 4,
 "nbformat_minor": 5
}
